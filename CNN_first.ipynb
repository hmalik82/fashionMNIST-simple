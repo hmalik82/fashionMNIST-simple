{
  "cells": [
    {
      "cell_type": "markdown",
      "source": [
        "### Imports"
      ],
      "metadata": {
        "id": "RwfRIOK190aP"
      }
    },
    {
      "cell_type": "code",
      "execution_count": null,
      "metadata": {
        "id": "zPdkgD_1jkYq"
      },
      "outputs": [],
      "source": [
        "import torch\n",
        "import torch.nn as nn\n",
        "import torchvision\n",
        "from torchvision import datasets\n",
        "import matplotlib.pyplot as plt\n"
      ]
    },
    {
      "cell_type": "code",
      "execution_count": null,
      "metadata": {
        "colab": {
          "base_uri": "https://localhost:8080/",
          "height": 35
        },
        "id": "ggRNGclEjvkh",
        "outputId": "31274b7c-dc0c-461a-c482-35b14fc1b34e"
      },
      "outputs": [
        {
          "output_type": "execute_result",
          "data": {
            "text/plain": [
              "'cuda'"
            ],
            "application/vnd.google.colaboratory.intrinsic+json": {
              "type": "string"
            }
          },
          "metadata": {},
          "execution_count": 2
        }
      ],
      "source": [
        "device = 'cuda' if torch.cuda.is_available() else 'cpu'\n",
        "device"
      ]
    },
    {
      "cell_type": "code",
      "execution_count": null,
      "metadata": {
        "colab": {
          "base_uri": "https://localhost:8080/"
        },
        "id": "upRb4ByWjyp8",
        "outputId": "8923f0fc-ee22-4128-f8e3-638c102f404b"
      },
      "outputs": [
        {
          "output_type": "stream",
          "name": "stdout",
          "text": [
            "helper_functions.py already exists\n"
          ]
        }
      ],
      "source": [
        "import requests\n",
        "from pathlib import Path\n",
        "\n",
        "if Path('helper_functions.py').is_file():\n",
        "  print('helper_functions.py already exists')\n",
        "else:\n",
        "  print(\"Downloading helper_functions.py\")\n",
        "  request = requests.get('https://raw.githubusercontent.com/mrdbourke/pytorch-deep-learning/main/helper_functions.py')\n",
        "  with open('helper_functions.py', 'wb') as f:\n",
        "    f.write(request.content)\n",
        "\n",
        "# Create helper function to calculate the training time\n",
        "from timeit import default_timer as timer\n",
        "\n",
        "def print_train_time(start: float,\n",
        "                     end: float,\n",
        "                     device: torch.device = device):\n",
        "  '''\n",
        "  Prints the difference between the start and end time\n",
        "  '''\n",
        "  total_time = end - start\n",
        "  print(f\"Train time on {device}: {total_time:.3f} seconds\")\n",
        "  return total_time"
      ]
    },
    {
      "cell_type": "markdown",
      "source": [
        "### Getting and loading the data"
      ],
      "metadata": {
        "id": "R_tolGGv9Ugv"
      }
    },
    {
      "cell_type": "code",
      "execution_count": null,
      "metadata": {
        "colab": {
          "base_uri": "https://localhost:8080/"
        },
        "id": "ag6BKNq0o0Si",
        "outputId": "85f63428-1893-4c5a-c1a0-d2eceecec3b1"
      },
      "outputs": [
        {
          "output_type": "execute_result",
          "data": {
            "text/plain": [
              "['T-shirt/top',\n",
              " 'Trouser',\n",
              " 'Pullover',\n",
              " 'Dress',\n",
              " 'Coat',\n",
              " 'Sandal',\n",
              " 'Shirt',\n",
              " 'Sneaker',\n",
              " 'Bag',\n",
              " 'Ankle boot']"
            ]
          },
          "metadata": {},
          "execution_count": 4
        }
      ],
      "source": [
        "# Getting the training data\n",
        "\n",
        "train_data = datasets.FashionMNIST(root='data',\n",
        "                                   train=True, # Training or test dataset\n",
        "                                   download=True,\n",
        "                                   transform=torchvision.transforms.ToTensor(), # how do we transform the data\n",
        "                                   target_transform=None # how do we transform the labels/targets\n",
        "                                   )\n",
        "\n",
        "\n",
        "test_data = datasets.FashionMNIST(root='data',\n",
        "                                   train=False, # Training or test dataset\n",
        "                                   download=True,\n",
        "                                   transform=torchvision.transforms.ToTensor(), # how do we transform the data\n",
        "                                   target_transform=None # how do we transform the labels/targets\n",
        "                                  )\n",
        "\n",
        "\n",
        "class_names = train_data.classes\n",
        "class_names"
      ]
    },
    {
      "cell_type": "code",
      "source": [
        "len(train_data), len(test_data)"
      ],
      "metadata": {
        "colab": {
          "base_uri": "https://localhost:8080/"
        },
        "id": "PcmogBp-pvZ0",
        "outputId": "b986b5aa-feab-47d0-916d-88b9d5e5c1da"
      },
      "execution_count": null,
      "outputs": [
        {
          "output_type": "execute_result",
          "data": {
            "text/plain": [
              "(60000, 10000)"
            ]
          },
          "metadata": {},
          "execution_count": 29
        }
      ]
    },
    {
      "cell_type": "code",
      "execution_count": null,
      "metadata": {
        "colab": {
          "base_uri": "https://localhost:8080/"
        },
        "id": "4BVAnIgho1kz",
        "outputId": "e415299b-7f19-4a3a-abe8-91645fee46e7"
      },
      "outputs": [
        {
          "output_type": "execute_result",
          "data": {
            "text/plain": [
              "(<torch.utils.data.dataloader.DataLoader at 0x7f7628892b90>,\n",
              " <torch.utils.data.dataloader.DataLoader at 0x7f75343f8f50>)"
            ]
          },
          "metadata": {},
          "execution_count": 5
        }
      ],
      "source": [
        "# Preparing the Data Loader\n",
        "\n",
        "from torch.utils.data import DataLoader\n",
        "\n",
        "BATCH_SIZE = 32\n",
        "\n",
        "train_dataloader = DataLoader(dataset=train_data,\n",
        "                              batch_size=BATCH_SIZE,\n",
        "                              shuffle=True)\n",
        "\n",
        "test_dataloader = DataLoader(dataset=test_data,\n",
        "                             batch_size=BATCH_SIZE,\n",
        "                             shuffle=False)\n",
        "\n",
        "train_dataloader, test_dataloader"
      ]
    },
    {
      "cell_type": "markdown",
      "source": [
        "### Functionizing the train and test steps"
      ],
      "metadata": {
        "id": "mudwpBPO9njA"
      }
    },
    {
      "cell_type": "code",
      "execution_count": null,
      "metadata": {
        "id": "NT0u1F-yDzJI"
      },
      "outputs": [],
      "source": [
        "# Functionize the training process\n",
        "\n",
        "def train_step(model: torch.nn.Module,\n",
        "               data_loader: torch.utils.data.DataLoader,\n",
        "               loss_fn: torch.nn.Module,\n",
        "               optimizer: torch.optim.Optimizer,\n",
        "               accuracy_fn,\n",
        "               device: torch.device = device):\n",
        "\n",
        "  model.train()\n",
        "  train_loss, train_acc = 0, 0\n",
        "\n",
        "  for batch, (X,y) in enumerate(data_loader):\n",
        "    X, y = X.to(device), y.to(device)\n",
        "    y_pred = model(X)\n",
        "    loss = loss_fn(y_pred, y)\n",
        "    train_loss += loss\n",
        "    train_acc += accuracy_fn(y_true = y,\n",
        "                             y_pred = y_pred.argmax(dim=1))\n",
        "\n",
        "    optimizer.zero_grad()\n",
        "    loss.backward()\n",
        "    optimizer.step()\n",
        "\n",
        "  train_loss /= len(data_loader)\n",
        "  train_acc /= len(data_loader)\n",
        "\n",
        "  print(f\"Train loss: {train_loss:.5f} | Train acc: {train_acc:.2f}%\")\n",
        "\n",
        "  return train_loss, train_acc\n",
        "\n"
      ]
    },
    {
      "cell_type": "code",
      "execution_count": null,
      "metadata": {
        "id": "XBKttVPBDzqA"
      },
      "outputs": [],
      "source": [
        "# Functionize the testing process\n",
        "\n",
        "def test_step(model: torch.nn.Module,\n",
        "               data_loader: torch.utils.data.DataLoader,\n",
        "               loss_fn: torch.nn.Module,\n",
        "               optimizer: torch.optim.Optimizer,\n",
        "               accuracy_fn,\n",
        "               device: torch.device = device):\n",
        "  '''Performs a testing step on a PyTorch model.'''\n",
        "\n",
        "  model.eval()\n",
        "  test_loss, test_acc = 0, 0\n",
        "\n",
        "  with torch.inference_mode():\n",
        "    for X, y in data_loader:\n",
        "      X, y = X.to(device), y.to(device)\n",
        "\n",
        "      test_pred = model(X)\n",
        "      test_loss += loss_fn(test_pred, y)\n",
        "      test_acc += accuracy_fn(y_true = y,\n",
        "                              y_pred = test_pred.argmax(dim=1))\n",
        "\n",
        "    test_loss /= len(data_loader)\n",
        "    test_acc /= len(data_loader)\n",
        "\n",
        "  print(f\"Test loss: {test_loss:.5f} | Test acc: {test_acc:.2f}%\")\n",
        "  return test_loss, test_acc"
      ]
    },
    {
      "cell_type": "markdown",
      "source": [
        "### Creating the model architecture"
      ],
      "metadata": {
        "id": "q97t7Acm9riP"
      }
    },
    {
      "cell_type": "code",
      "execution_count": null,
      "metadata": {
        "id": "MsEmEUffjyns"
      },
      "outputs": [],
      "source": [
        "class FashionMNISTModelV2(nn.Module):\n",
        "  def __init__(self, input_shape: int, hidden_units: int, output_shape: int):\n",
        "    super().__init__()\n",
        "    self.conv_block_1 = nn.Sequential(\n",
        "        nn.Conv2d(in_channels = input_shape,\n",
        "                  out_channels = hidden_units,\n",
        "                  kernel_size = 3,\n",
        "                  stride = 1,\n",
        "                  padding = 1),\n",
        "        nn.BatchNorm2d(hidden_units),\n",
        "        nn.ReLU(),\n",
        "        nn.Conv2d(in_channels = hidden_units,\n",
        "                  out_channels = hidden_units,\n",
        "                  kernel_size = 3,\n",
        "                  stride = 1,\n",
        "                  padding = 1),\n",
        "        nn.BatchNorm2d(hidden_units),\n",
        "        nn.ReLU(),\n",
        "        nn.MaxPool2d(kernel_size = 2),\n",
        "        nn.Dropout(0.25)\n",
        "    )\n",
        "\n",
        "    self.conv_block_2 = nn.Sequential(\n",
        "        nn.Conv2d(in_channels = hidden_units,\n",
        "                  out_channels = hidden_units*2,\n",
        "                  kernel_size = 3,\n",
        "                  stride = 1,\n",
        "                  padding = 1),\n",
        "        nn.BatchNorm2d(hidden_units*2),\n",
        "        nn.ReLU(),\n",
        "        nn.Conv2d(in_channels = hidden_units*2,\n",
        "                  out_channels = hidden_units,\n",
        "                  kernel_size = 3,\n",
        "                  stride = 1,\n",
        "                  padding = 1),\n",
        "        nn.BatchNorm2d(hidden_units),\n",
        "        nn.ReLU(),\n",
        "        nn.MaxPool2d(kernel_size = 2),\n",
        "        nn.Dropout(0.5)\n",
        "    )\n",
        "    self.classifier = nn.Sequential(\n",
        "        nn.Flatten(),\n",
        "        nn.Linear(in_features = hidden_units * 7 * 7,\n",
        "                  out_features = 256),\n",
        "        nn.ReLU(),\n",
        "        nn.Dropout(0.5),\n",
        "        nn.Linear(in_features=256, out_features=output_shape)\n",
        "    )\n",
        "\n",
        "  def forward(self, x: torch.Tensor):\n",
        "    x = self.conv_block_1(x)\n",
        "    #print(f\"Output shape of conv_block_1: {x.shape}\")\n",
        "    x = self.conv_block_2(x)\n",
        "    #print(f\"Output shape of conv_block_2: {x.shape}\")\n",
        "    x = self.classifier(x)\n",
        "    #print(\"Output shape of classifier: {x.shape}\")\n",
        "    return x"
      ]
    },
    {
      "cell_type": "code",
      "execution_count": null,
      "metadata": {
        "colab": {
          "base_uri": "https://localhost:8080/"
        },
        "id": "_LmL4SHMjylU",
        "outputId": "ba2f826a-817a-42fc-9826-de7b046eb71b"
      },
      "outputs": [
        {
          "output_type": "execute_result",
          "data": {
            "text/plain": [
              "FashionMNISTModelV2(\n",
              "  (conv_block_1): Sequential(\n",
              "    (0): Conv2d(1, 32, kernel_size=(3, 3), stride=(1, 1), padding=(1, 1))\n",
              "    (1): BatchNorm2d(32, eps=1e-05, momentum=0.1, affine=True, track_running_stats=True)\n",
              "    (2): ReLU()\n",
              "    (3): Conv2d(32, 32, kernel_size=(3, 3), stride=(1, 1), padding=(1, 1))\n",
              "    (4): BatchNorm2d(32, eps=1e-05, momentum=0.1, affine=True, track_running_stats=True)\n",
              "    (5): ReLU()\n",
              "    (6): MaxPool2d(kernel_size=2, stride=2, padding=0, dilation=1, ceil_mode=False)\n",
              "    (7): Dropout(p=0.25, inplace=False)\n",
              "  )\n",
              "  (conv_block_2): Sequential(\n",
              "    (0): Conv2d(32, 64, kernel_size=(3, 3), stride=(1, 1), padding=(1, 1))\n",
              "    (1): BatchNorm2d(64, eps=1e-05, momentum=0.1, affine=True, track_running_stats=True)\n",
              "    (2): ReLU()\n",
              "    (3): Conv2d(64, 32, kernel_size=(3, 3), stride=(1, 1), padding=(1, 1))\n",
              "    (4): BatchNorm2d(32, eps=1e-05, momentum=0.1, affine=True, track_running_stats=True)\n",
              "    (5): ReLU()\n",
              "    (6): MaxPool2d(kernel_size=2, stride=2, padding=0, dilation=1, ceil_mode=False)\n",
              "    (7): Dropout(p=0.5, inplace=False)\n",
              "  )\n",
              "  (classifier): Sequential(\n",
              "    (0): Flatten(start_dim=1, end_dim=-1)\n",
              "    (1): Linear(in_features=1568, out_features=256, bias=True)\n",
              "    (2): ReLU()\n",
              "    (3): Dropout(p=0.5, inplace=False)\n",
              "    (4): Linear(in_features=256, out_features=10, bias=True)\n",
              "  )\n",
              ")"
            ]
          },
          "metadata": {},
          "execution_count": 9
        }
      ],
      "source": [
        "torch.manual_seed(42)\n",
        "model_v2 = FashionMNISTModelV2(input_shape = 1,\n",
        "                               hidden_units = 32,\n",
        "                               output_shape = len(class_names)).to(device)\n",
        "model_v2"
      ]
    },
    {
      "cell_type": "code",
      "execution_count": null,
      "metadata": {
        "colab": {
          "base_uri": "https://localhost:8080/"
        },
        "id": "SPJf3lk191AT",
        "outputId": "e0f7be6c-10b0-4e74-b096-b0c8550d94f2"
      },
      "outputs": [
        {
          "output_type": "execute_result",
          "data": {
            "text/plain": [
              "tensor([[ 0.1371, -0.1419, -0.5185, -0.0225, -0.4905,  0.3824, -0.2676, -0.7027,\n",
              "         -0.4365,  0.0229]], device='cuda:0', grad_fn=<AddmmBackward0>)"
            ]
          },
          "metadata": {},
          "execution_count": 10
        }
      ],
      "source": [
        "rand_image_tensor = torch.randn(size = (1, 28, 28))\n",
        "\n",
        "model_v2(rand_image_tensor.unsqueeze(0).to(device))"
      ]
    },
    {
      "cell_type": "markdown",
      "metadata": {
        "id": "Ah3ru0vE3VYd"
      },
      "source": []
    },
    {
      "cell_type": "code",
      "execution_count": null,
      "metadata": {
        "colab": {
          "base_uri": "https://localhost:8080/"
        },
        "id": "jzrVMbZVjyi8",
        "outputId": "f0817581-cfd8-4de1-b6fd-d1649155505f"
      },
      "outputs": [
        {
          "output_type": "stream",
          "name": "stdout",
          "text": [
            "Image batch shape: torch.Size([32, 3, 64, 64])\n",
            "\n",
            "Shape of the test image: torch.Size([3, 64, 64])\n",
            "\n",
            "Test image:\n",
            "tensor([[[ 1.9269,  1.4873,  0.9007,  ...,  1.8446, -1.1845,  1.3835],\n",
            "         [ 1.4451,  0.8564,  2.2181,  ...,  0.3399,  0.7200,  0.4114],\n",
            "         [ 1.9312,  1.0119, -1.4364,  ..., -0.5558,  0.7043,  0.7099],\n",
            "         ...,\n",
            "         [-0.5610, -0.4830,  0.4770,  ..., -0.2713, -0.9537, -0.6737],\n",
            "         [ 0.3076, -0.1277,  0.0366,  ..., -2.0060,  0.2824, -0.8111],\n",
            "         [-1.5486,  0.0485, -0.7712,  ..., -0.1403,  0.9416, -0.0118]],\n",
            "\n",
            "        [[-0.5197,  1.8524,  1.8365,  ...,  0.8935, -1.5114, -0.8515],\n",
            "         [ 2.0818,  1.0677, -1.4277,  ...,  1.6612, -2.6223, -0.4319],\n",
            "         [-0.1010, -0.4388, -1.9775,  ...,  0.2106,  0.2536, -0.7318],\n",
            "         ...,\n",
            "         [ 0.2779,  0.7342, -0.3736,  ..., -0.4601,  0.1815,  0.1850],\n",
            "         [ 0.7205, -0.2833,  0.0937,  ..., -0.1002, -2.3609,  2.2465],\n",
            "         [-1.3242, -0.1973,  0.2920,  ...,  0.5409,  0.6940,  1.8563]],\n",
            "\n",
            "        [[-0.7978,  1.0261,  1.1465,  ...,  1.2134,  0.9354, -0.0780],\n",
            "         [-1.4647, -1.9571,  0.1017,  ..., -1.9986, -0.7409,  0.7011],\n",
            "         [-1.3938,  0.8466, -1.7191,  ..., -1.1867,  0.1320,  0.3407],\n",
            "         ...,\n",
            "         [ 0.8206, -0.3745,  1.2499,  ..., -0.0676,  0.0385,  0.6335],\n",
            "         [-0.5589, -0.3393,  0.2347,  ...,  2.1181,  2.4569,  1.3083],\n",
            "         [-0.4092,  1.5199,  0.2401,  ..., -0.2558,  0.7870,  0.9924]]],\n",
            "       device='cuda:0')\n"
          ]
        }
      ],
      "source": [
        "import torch\n",
        "\n",
        "device = 'cuda' if torch.cuda.is_available() else 'cpu'\n",
        "\n",
        "torch.manual_seed(42)\n",
        "\n",
        "images = torch.randn(size = (32, 3, 64, 64)).to(device)\n",
        "test_image = images[0]\n",
        "\n",
        "print(f\"Image batch shape: {images.shape}\\n\")\n",
        "print(f\"Shape of the test image: {test_image.shape}\\n\")\n",
        "print(f\"Test image:\\n{test_image}\")\n"
      ]
    },
    {
      "cell_type": "code",
      "execution_count": null,
      "metadata": {
        "colab": {
          "base_uri": "https://localhost:8080/"
        },
        "id": "iQZZECzzjygd",
        "outputId": "65d1a28c-e095-469a-a96a-c683ec4c010a"
      },
      "outputs": [
        {
          "output_type": "stream",
          "name": "stdout",
          "text": [
            "Shape of the convolution output: torch.Size([1, 10, 64, 64])\n"
          ]
        }
      ],
      "source": [
        "# Understanding the hyperparameters of Conv2d\n",
        "\n",
        "conv_layer = nn.Conv2d(in_channels = 3,\n",
        "                       out_channels = 10,\n",
        "                       kernel_size = 3,\n",
        "                       stride = 1,\n",
        "                       padding = 1).to(device)\n",
        "\n",
        "conv_output = conv_layer(test_image.unsqueeze(dim = 0))\n",
        "\n",
        "print(f\"Shape of the convolution output: {conv_output.shape}\")"
      ]
    },
    {
      "cell_type": "code",
      "execution_count": null,
      "metadata": {
        "colab": {
          "base_uri": "https://localhost:8080/"
        },
        "id": "Rf7dXSE7jyeE",
        "outputId": "0fa9887b-f1a1-4c9c-db9b-4bc2edbf4c16"
      },
      "outputs": [
        {
          "output_type": "stream",
          "name": "stdout",
          "text": [
            "Shape of the max pool output: torch.Size([1, 10, 32, 32])\n"
          ]
        }
      ],
      "source": [
        "# Stepping throuhg MaxPool2d\n",
        "\n",
        "max_pool_layer = nn.MaxPool2d(kernel_size = 2).to(device)\n",
        "\n",
        "max_pool_output = max_pool_layer(conv_output)\n",
        "\n",
        "print(f\"Shape of the max pool output: {max_pool_output.shape}\")"
      ]
    },
    {
      "cell_type": "code",
      "execution_count": null,
      "metadata": {
        "colab": {
          "base_uri": "https://localhost:8080/"
        },
        "id": "5MFBllQXjybt",
        "outputId": "1b72f69e-e528-46c0-d1e4-748c85cdcb48"
      },
      "outputs": [
        {
          "output_type": "stream",
          "name": "stdout",
          "text": [
            "Random tensor:\n",
            "tensor([[[[0.3367, 0.1288],\n",
            "          [0.2345, 0.2303]]]])\n",
            "\n",
            "Tensor shape: torch.Size([1, 1, 2, 2])\n",
            "\n",
            "\n",
            "Max pool output:\n",
            "tensor([[[[0.3367]]]])]\n",
            "\n",
            "Output shape: torch.Size([1, 1, 1, 1])\n"
          ]
        }
      ],
      "source": [
        "torch.manual_seed(42)\n",
        "\n",
        "random_tensor = torch.randn(size = (1, 1, 2, 2))\n",
        "\n",
        "max_pool_layer = nn.MaxPool2d(kernel_size = 2)\n",
        "\n",
        "max_pool_output = max_pool_layer(random_tensor)\n",
        "\n",
        "print(f\"Random tensor:\\n{random_tensor}\\n\\nTensor shape: {random_tensor.shape}\\n\\n\")\n",
        "print(f\"Max pool output:\\n{max_pool_output}]\\n\\nOutput shape: {max_pool_output.shape}\")"
      ]
    },
    {
      "cell_type": "markdown",
      "metadata": {
        "id": "WOA5LybCDAhB"
      },
      "source": [
        "### Setting up loss function and optimizer, creating the trainig loop"
      ]
    },
    {
      "cell_type": "code",
      "execution_count": null,
      "metadata": {
        "id": "LkXqTnro5fNM"
      },
      "outputs": [],
      "source": [
        "from helper_functions import accuracy_fn\n",
        "\n",
        "loss_fn = nn.CrossEntropyLoss()\n",
        "optimizer = torch.optim.SGD(params = model_v2.parameters(),\n",
        "                            lr = 0.1)"
      ]
    },
    {
      "cell_type": "code",
      "execution_count": null,
      "metadata": {
        "colab": {
          "base_uri": "https://localhost:8080/"
        },
        "id": "sqb-AdbODTI4",
        "outputId": "4b3eb9d8-3694-4934-da03-149d02cb6361"
      },
      "outputs": [
        {
          "output_type": "stream",
          "name": "stdout",
          "text": [
            "Epoch: 0\n",
            "-------\n",
            "Train loss: 0.56362 | Train acc: 79.35%\n",
            "Test loss: 0.33889 | Test acc: 87.43%\n",
            "Epoch: 1\n",
            "-------\n",
            "Train loss: 0.36350 | Train acc: 86.73%\n",
            "Test loss: 0.28505 | Test acc: 89.53%\n",
            "Epoch: 2\n",
            "-------\n",
            "Train loss: 0.31822 | Train acc: 88.47%\n",
            "Test loss: 0.29052 | Test acc: 89.34%\n",
            "Epoch: 3\n",
            "-------\n",
            "Train loss: 0.29504 | Train acc: 89.28%\n",
            "Test loss: 0.23972 | Test acc: 91.19%\n",
            "Epoch: 4\n",
            "-------\n",
            "Train loss: 0.27659 | Train acc: 89.96%\n",
            "Test loss: 0.23376 | Test acc: 91.35%\n",
            "Epoch: 5\n",
            "-------\n",
            "Train loss: 0.26864 | Train acc: 90.22%\n",
            "Test loss: 0.23985 | Test acc: 91.33%\n",
            "Epoch: 6\n",
            "-------\n",
            "Train loss: 0.25806 | Train acc: 90.66%\n",
            "Test loss: 0.21866 | Test acc: 92.00%\n",
            "Epoch: 7\n",
            "-------\n",
            "Train loss: 0.25038 | Train acc: 90.86%\n",
            "Test loss: 0.23212 | Test acc: 91.22%\n",
            "Epoch: 8\n",
            "-------\n",
            "Train loss: 0.24417 | Train acc: 91.09%\n",
            "Test loss: 0.21206 | Test acc: 92.22%\n",
            "Epoch: 9\n",
            "-------\n",
            "Train loss: 0.23625 | Train acc: 91.33%\n",
            "Test loss: 0.20625 | Test acc: 92.57%\n",
            "Epoch: 10\n",
            "-------\n",
            "Train loss: 0.23298 | Train acc: 91.53%\n",
            "Test loss: 0.20954 | Test acc: 92.57%\n",
            "Epoch: 11\n",
            "-------\n",
            "Train loss: 0.22532 | Train acc: 91.75%\n",
            "Test loss: 0.20140 | Test acc: 92.54%\n",
            "Epoch: 12\n",
            "-------\n",
            "Train loss: 0.22201 | Train acc: 91.81%\n",
            "Test loss: 0.19519 | Test acc: 92.77%\n",
            "Epoch: 13\n",
            "-------\n",
            "Train loss: 0.21608 | Train acc: 92.13%\n",
            "Test loss: 0.20603 | Test acc: 92.50%\n",
            "Epoch: 14\n",
            "-------\n",
            "Train loss: 0.21259 | Train acc: 92.26%\n",
            "Test loss: 0.20200 | Test acc: 92.52%\n",
            "Epoch: 15\n",
            "-------\n",
            "Train loss: 0.21038 | Train acc: 92.28%\n",
            "Test loss: 0.19993 | Test acc: 92.64%\n",
            "Epoch: 16\n",
            "-------\n",
            "Train loss: 0.20862 | Train acc: 92.35%\n",
            "Test loss: 0.19131 | Test acc: 92.94%\n",
            "Epoch: 17\n",
            "-------\n",
            "Train loss: 0.20660 | Train acc: 92.50%\n",
            "Test loss: 0.19629 | Test acc: 92.71%\n",
            "Epoch: 18\n",
            "-------\n",
            "Train loss: 0.20000 | Train acc: 92.55%\n",
            "Test loss: 0.19125 | Test acc: 92.84%\n",
            "Epoch: 19\n",
            "-------\n",
            "Train loss: 0.20279 | Train acc: 92.50%\n",
            "Test loss: 0.19058 | Test acc: 92.88%\n",
            "Epoch: 20\n",
            "-------\n",
            "Train loss: 0.19536 | Train acc: 92.69%\n",
            "Test loss: 0.19360 | Test acc: 93.00%\n",
            "Epoch: 21\n",
            "-------\n",
            "Train loss: 0.19955 | Train acc: 92.64%\n",
            "Test loss: 0.19059 | Test acc: 93.15%\n",
            "Epoch: 22\n",
            "-------\n",
            "Train loss: 0.19483 | Train acc: 92.78%\n",
            "Test loss: 0.18092 | Test acc: 93.34%\n",
            "Epoch: 23\n",
            "-------\n",
            "Train loss: 0.19470 | Train acc: 92.91%\n",
            "Test loss: 0.18381 | Test acc: 93.52%\n",
            "Epoch: 24\n",
            "-------\n",
            "Train loss: 0.18466 | Train acc: 93.12%\n",
            "Test loss: 0.18834 | Test acc: 93.07%\n",
            "Epoch: 25\n",
            "-------\n",
            "Train loss: 0.18490 | Train acc: 93.14%\n",
            "Test loss: 0.18550 | Test acc: 93.23%\n",
            "Epoch: 26\n",
            "-------\n",
            "Train loss: 0.18636 | Train acc: 93.10%\n",
            "Test loss: 0.18529 | Test acc: 93.21%\n",
            "Epoch: 27\n",
            "-------\n",
            "Train loss: 0.18276 | Train acc: 93.29%\n",
            "Test loss: 0.18044 | Test acc: 93.43%\n",
            "Epoch: 28\n",
            "-------\n",
            "Train loss: 0.18155 | Train acc: 93.30%\n",
            "Test loss: 0.18433 | Test acc: 93.35%\n",
            "Epoch: 29\n",
            "-------\n",
            "Train loss: 0.17891 | Train acc: 93.32%\n",
            "Test loss: 0.18060 | Test acc: 93.61%\n",
            "Train time on cuda: 497.131 seconds\n"
          ]
        }
      ],
      "source": [
        "from math import e\n",
        "# Training and testing\n",
        "from timeit import default_timer as timer\n",
        "\n",
        "torch.manual_seed(42)\n",
        "torch.cuda.manual_seed(42)\n",
        "\n",
        "start_time = timer()\n",
        "epochs = 30\n",
        "train_loss_list, train_acc_list, test_loss_list, tess_acc_list = [], [], [], []\n",
        "for epoch in range(epochs):\n",
        "  print(f\"Epoch: {epoch}\\n-------\")\n",
        "  train_loss, train_acc= train_step(model = model_v2,\n",
        "                                                        data_loader= train_dataloader,\n",
        "                                                        loss_fn= loss_fn,\n",
        "                                                        optimizer = optimizer,\n",
        "                                                        accuracy_fn=accuracy_fn,\n",
        "                                                        device = device)\n",
        "  test_loss, test_acc = test_step(model = model_v2,\n",
        "                                                      data_loader = test_dataloader,\n",
        "                                                      loss_fn = loss_fn,\n",
        "                                                      optimizer = optimizer,\n",
        "                                                      accuracy_fn = accuracy_fn,\n",
        "                                                      device = device)\n",
        "  train_loss_list.append(train_loss)\n",
        "  train_acc_list.append(train_acc)\n",
        "  test_loss_list.append(test_loss)\n",
        "  tess_acc_list.append(test_acc)\n",
        "end_time = timer()\n",
        "total_time = print_train_time(start_time, end_time, device = device)\n"
      ]
    },
    {
      "cell_type": "markdown",
      "source": [
        "### Plotting the loss and accuracy curves"
      ],
      "metadata": {
        "id": "yQc8J7ZzgP61"
      }
    },
    {
      "cell_type": "code",
      "source": [
        "import matplotlib.pyplot as plt\n",
        "\n",
        "def to_float(t):\n",
        "    return t.cpu().item() if hasattr(t, 'cpu') else t\n",
        "\n",
        "fig, axes = plt.subplots(1, 2, figsize=(16, 6))\n",
        "\n",
        "# Plot 1: Loss curves\n",
        "axes[0].plot([to_float(t) for t in train_loss_list], label='Train loss')\n",
        "axes[0].plot([to_float(t) for t in test_loss_list], label='Test loss')\n",
        "axes[0].set_title('Loss curves')\n",
        "axes[0].set_xlabel('Epochs')\n",
        "axes[0].set_ylabel('Loss')\n",
        "axes[0].legend()\n",
        "\n",
        "# Plot 2: Accuracy curves\n",
        "axes[1].plot([to_float(t) for t in train_acc_list], label='Train accuracy')\n",
        "axes[1].plot([to_float(t) for t in tess_acc_list], label='Test accuracy')\n",
        "axes[1].set_title('Accuracy curves')\n",
        "axes[1].set_xlabel('Epochs')\n",
        "axes[1].set_ylabel('Accuracy')\n",
        "axes[1].legend()\n",
        "\n",
        "plt.tight_layout()\n",
        "plt.show()\n"
      ],
      "metadata": {
        "colab": {
          "base_uri": "https://localhost:8080/",
          "height": 607
        },
        "id": "AcXitqW6gPeW",
        "outputId": "471c48d2-a70c-4d62-8f92-8dc6eb4c5c0a"
      },
      "execution_count": null,
      "outputs": [
        {
          "output_type": "display_data",
          "data": {
            "text/plain": [
              "<Figure size 1600x600 with 2 Axes>"
            ],
            "image/png": "[encoded data removed]"
          },
          "metadata": {}
        }
      ]
    },
    {
      "cell_type": "code",
      "execution_count": null,
      "metadata": {
        "id": "RTMHwPZx5fKD"
      },
      "outputs": [],
      "source": [
        "'''model_2_results = eval_model(model = model_v2,\n",
        "                             data_loader = test_dataloader,\n",
        "                             loss_fn = loss_fn,\n",
        "                             accuracy_fn = accuracy_fn,\n",
        "                             device = device)\n",
        "model_2_results'''"
      ]
    },
    {
      "cell_type": "code",
      "execution_count": null,
      "metadata": {
        "id": "8j04ByOm5fHc"
      },
      "outputs": [],
      "source": [
        "def make_predictions(model: torch.nn.Module,\n",
        "                     data: list,\n",
        "                     device: torch.device = device):\n",
        "  ''''''\n",
        "\n",
        "  pred_probs = []\n",
        "  model.eval()\n",
        "  with torch.inference_mode():\n",
        "    for sample in data:\n",
        "      # Prepare the sample\n",
        "      sample = torch.unsqueeze(sample, dim = 0).to(device)\n",
        "\n",
        "      pred_logit = model(sample)\n",
        "      pred_prob = torch.softmax(pred_logit.squeeze(), dim = 0)\n",
        "\n",
        "      pred_probs.append(pred_prob.cpu())\n",
        "\n",
        "  return torch.stack(pred_probs)"
      ]
    },
    {
      "cell_type": "code",
      "execution_count": null,
      "metadata": {
        "id": "85OlOSFiDnr5"
      },
      "outputs": [],
      "source": []
    },
    {
      "cell_type": "code",
      "execution_count": null,
      "metadata": {
        "id": "07o1_dwuDnog"
      },
      "outputs": [],
      "source": []
    },
    {
      "cell_type": "code",
      "execution_count": null,
      "metadata": {
        "id": "cEN-YBKpC5MK"
      },
      "outputs": [],
      "source": []
    }
  ],
  "metadata": {
    "accelerator": "GPU",
    "colab": {
      "gpuType": "T4",
      "provenance": []
    },
    "kernelspec": {
      "display_name": "Python 3",
      "name": "python3"
    },
    "language_info": {
      "name": "python"
    }
  },
  "nbformat": 4,
  "nbformat_minor": 0
}